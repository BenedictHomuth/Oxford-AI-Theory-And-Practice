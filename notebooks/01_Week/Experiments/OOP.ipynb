{
 "cells": [
  {
   "cell_type": "code",
   "execution_count": 21,
   "id": "1d463214",
   "metadata": {},
   "outputs": [],
   "source": [
    "class Animal:\n",
    "    def __init__(self, name, age):\n",
    "        self.name = name\n",
    "        self.age = age\n",
    "    \n",
    "    def voice(self):\n",
    "        print(\"There is a voice from the animal\")"
   ]
  },
  {
   "cell_type": "code",
   "execution_count": 22,
   "id": "9c8242de",
   "metadata": {},
   "outputs": [],
   "source": [
    "class Dog(Animal):\n",
    "    def __init__(self, name, age, breed):\n",
    "        super().__init__(name, age)\n",
    "        self.breed = breed\n",
    "    # This overrides the base class method\n",
    "    def voice(self):\n",
    "        print(self.name +  \" makes Woof Woof!\")"
   ]
  },
  {
   "cell_type": "code",
   "execution_count": 23,
   "id": "03f89e6d",
   "metadata": {},
   "outputs": [
    {
     "name": "stdout",
     "output_type": "stream",
     "text": [
      "Name:  Sparky\n",
      "Age:  7\n",
      "Breed:  Terrier\n"
     ]
    }
   ],
   "source": [
    "d1 = Dog(\"Sparky\", 7, \"Terrier\")\n",
    "\n",
    "print(\"Name: \", d1.name)\n",
    "print(\"Age: \", d1.age)\n",
    "print(\"Breed: \", d1.breed)"
   ]
  },
  {
   "cell_type": "code",
   "execution_count": 24,
   "id": "f9f1acc6",
   "metadata": {},
   "outputs": [
    {
     "name": "stdout",
     "output_type": "stream",
     "text": [
      "Sparky makes Woof Woof!\n"
     ]
    }
   ],
   "source": [
    "d1.voice()"
   ]
  },
  {
   "cell_type": "code",
   "execution_count": null,
   "id": "ec840bc3",
   "metadata": {},
   "outputs": [],
   "source": []
  }
 ],
 "metadata": {
  "kernelspec": {
   "display_name": "Python 3 (ipykernel)",
   "language": "python",
   "name": "python3"
  },
  "language_info": {
   "codemirror_mode": {
    "name": "ipython",
    "version": 3
   },
   "file_extension": ".py",
   "mimetype": "text/x-python",
   "name": "python",
   "nbconvert_exporter": "python",
   "pygments_lexer": "ipython3",
   "version": "3.9.19"
  }
 },
 "nbformat": 4,
 "nbformat_minor": 5
}
