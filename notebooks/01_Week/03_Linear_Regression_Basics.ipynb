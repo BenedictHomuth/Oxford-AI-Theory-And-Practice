{
 "cells": [
  {
   "cell_type": "code",
   "execution_count": 1,
   "metadata": {
    "executionInfo": {
     "elapsed": 13,
     "status": "ok",
     "timestamp": 1698480491490,
     "user": {
      "displayName": "Telha Bin Bilal",
      "userId": "04147761314111353462"
     },
     "user_tz": -300
    },
    "id": "xp0xEaxQ9IdQ"
   },
   "outputs": [],
   "source": [
    "from IPython.display import clear_output"
   ]
  },
  {
   "cell_type": "code",
   "execution_count": 2,
   "metadata": {
    "executionInfo": {
     "elapsed": 16439,
     "status": "ok",
     "timestamp": 1698480783305,
     "user": {
      "displayName": "Telha Bin Bilal",
      "userId": "04147761314111353462"
     },
     "user_tz": -300
    },
    "id": "GMpV5X0P9RJ-"
   },
   "outputs": [],
   "source": [
    "# Download the required libraries (needed when running outside colab where the environment doesn't come pre-loaded with libraries)\n",
    "\n",
    "%pip install numpy\n",
    "%pip install scikit-learn\n",
    "%pip install matplotlib\n",
    "\n",
    "clear_output()"
   ]
  },
  {
   "cell_type": "code",
   "execution_count": 3,
   "metadata": {
    "id": "-h6xg45AYUmF"
   },
   "outputs": [],
   "source": [
    "import math\n",
    "\n",
    "import numpy as np\n",
    "import matplotlib.pyplot as plt\n",
    "\n",
    "from sklearn.linear_model import LinearRegression"
   ]
  },
  {
   "cell_type": "markdown",
   "metadata": {
    "id": "37bi0tehXm-p"
   },
   "source": [
    "# Contents:\n",
    "\n",
    "In this notebook you are required to:\n",
    "\n",
    "1. Implement 1 polynomial degree Linear Regression model from scratch (using numpy)\n",
    "2. Implement the same model using sklearn\n",
    "3. Take a complex function and try fitting a multi-polynomial degree Linear regression model on it."
   ]
  },
  {
   "cell_type": "markdown",
   "metadata": {
    "id": "Shzta92y9oZI"
   },
   "source": [
    "## Implementing Linear Regression from Scratch (Using numpy)"
   ]
  },
  {
   "cell_type": "markdown",
   "metadata": {},
   "source": [
    "Creating the data"
   ]
  },
  {
   "cell_type": "code",
   "execution_count": 4,
   "metadata": {},
   "outputs": [],
   "source": [
    "w0 = 12  # bias\n",
    "w1 = 15  # first degree co-efficient (m)\n",
    "noise_scale_factor = 5  # the higher this is, the rougher and farther the noisy output is from the best fit\n",
    "num_points = 50  # number of samples in data\n",
    "\n",
    "x_points = np.linspace(0, 1, num_points)  # num_points points from 0 to 1\n",
    "y_points_no_noise = w0 + w1*x_points  # The actual features which we'd feed to model will have slight noise\n",
    "noise = noise_scale_factor * (np.random.rand(*y_points_no_noise.shape)-0.5)  # Look at the explanation below to see how this is calculated\n",
    "\n",
    "y_points = y_points_no_noise + noise"
   ]
  },
  {
   "cell_type": "markdown",
   "metadata": {},
   "source": [
    "### Plotting the data\n",
    "\n",
    "Plot the noise-less points and the noise added points to visualize the difference"
   ]
  },
  {
   "cell_type": "code",
   "execution_count": null,
   "metadata": {
    "colab": {
     "base_uri": "https://localhost:8080/",
     "height": 449
    },
    "executionInfo": {
     "elapsed": 1168,
     "status": "ok",
     "timestamp": 1698480784462,
     "user": {
      "displayName": "Telha Bin Bilal",
      "userId": "04147761314111353462"
     },
     "user_tz": -300
    },
    "id": "PwIENVuG99b8",
    "outputId": "05190c23-715f-4084-d634-0130c472adf3"
   },
   "outputs": [],
   "source": []
  },
  {
   "cell_type": "markdown",
   "metadata": {},
   "source": [
    "### Creating Linear Regression based predictions\n",
    "\n",
    "Write Linear regression implementation using numpy and use it\n",
    "\n",
    "to predict a best fit line from the noisy points"
   ]
  },
  {
   "cell_type": "code",
   "execution_count": null,
   "metadata": {
    "colab": {
     "base_uri": "https://localhost:8080/",
     "height": 449
    },
    "executionInfo": {
     "elapsed": 43,
     "status": "ok",
     "timestamp": 1698480784463,
     "user": {
      "displayName": "Telha Bin Bilal",
      "userId": "04147761314111353462"
     },
     "user_tz": -300
    },
    "id": "Q9jdmjvX_ept",
    "outputId": "0f49f878-568e-46f2-815d-bab51404950f"
   },
   "outputs": [],
   "source": []
  },
  {
   "cell_type": "markdown",
   "metadata": {},
   "source": [
    "### Plotting the results\n",
    "\n",
    "Plot the noisy points, the original noise-less data and the predicted data"
   ]
  },
  {
   "cell_type": "code",
   "execution_count": null,
   "metadata": {},
   "outputs": [],
   "source": []
  },
  {
   "cell_type": "markdown",
   "metadata": {},
   "source": [
    "Print out the original coef and bias values and the predicted ones. Are they close?"
   ]
  },
  {
   "cell_type": "code",
   "execution_count": null,
   "metadata": {
    "colab": {
     "base_uri": "https://localhost:8080/"
    },
    "executionInfo": {
     "elapsed": 40,
     "status": "ok",
     "timestamp": 1698480784464,
     "user": {
      "displayName": "Telha Bin Bilal",
      "userId": "04147761314111353462"
     },
     "user_tz": -300
    },
    "id": "RsSuO-qfx5gB",
    "outputId": "eb93d6e9-1306-4b37-acc1-baf5087144d0"
   },
   "outputs": [],
   "source": []
  },
  {
   "cell_type": "markdown",
   "metadata": {
    "id": "mDMgBfr0XmaA"
   },
   "source": [
    "## Let's now use sklearn to do this\n",
    "\n",
    "Repeat the experiment using Sklearn. Use the same noisy points to train a Linear Regression Model\n",
    "and predict a best fit line and then plot the results\n",
    "\n",
    "Also print the SKlearn's coefficient and bias values"
   ]
  },
  {
   "cell_type": "code",
   "execution_count": null,
   "metadata": {
    "executionInfo": {
     "elapsed": 36,
     "status": "ok",
     "timestamp": 1698480784464,
     "user": {
      "displayName": "Telha Bin Bilal",
      "userId": "04147761314111353462"
     },
     "user_tz": -300
    },
    "id": "U6yN5mOahfDz"
   },
   "outputs": [],
   "source": []
  },
  {
   "cell_type": "markdown",
   "metadata": {
    "id": "ba-4Ox1r7bN4"
   },
   "source": [
    "## Let's step up the game with more complex functions\n",
    "\n",
    "Loading new, complex data"
   ]
  },
  {
   "cell_type": "code",
   "execution_count": 5,
   "metadata": {
    "colab": {
     "base_uri": "https://localhost:8080/",
     "height": 449
    },
    "executionInfo": {
     "elapsed": 1172,
     "status": "ok",
     "timestamp": 1698480785610,
     "user": {
      "displayName": "Telha Bin Bilal",
      "userId": "04147761314111353462"
     },
     "user_tz": -300
    },
    "id": "jYpUaxrn1VB-",
    "outputId": "f74cb33f-9b9d-43a6-a5bb-31d3165d7c8e"
   },
   "outputs": [],
   "source": [
    "noise_scale_factor = 1.5\n",
    "num_points = 100\n",
    "sin_wave_ub = 3  # upper bound of sin wave y output. negative of this value would also be lower bound. (negative value here would make this a cosine wave)\n",
    "\n",
    "x_points = np.linspace(-1, 1, num_points)\n",
    "y_points_no_noise = sin_wave_ub * np.sin(x_points*math.pi)\n",
    "\n",
    "noise = noise_scale_factor * (np.random.rand(*y_points_no_noise.shape)-0.5)\n",
    "y_points = y_points_no_noise + noise"
   ]
  },
  {
   "cell_type": "markdown",
   "metadata": {},
   "source": [
    "### Plot the data\n",
    "\n",
    "Plot the noise-less and noisy points just like before"
   ]
  },
  {
   "cell_type": "code",
   "execution_count": null,
   "metadata": {},
   "outputs": [],
   "source": []
  },
  {
   "cell_type": "markdown",
   "metadata": {
    "id": "2Ut2OpDhZTFX"
   },
   "source": [
    "### Custom fitting with variable number of bases\n",
    "\n",
    "Iterate over a number of bases(atleast 1 to 5) and create a Linear Regression model of each base.\n",
    "\n",
    "Use the models to predict the best fit lines and plot the results for each model. Clearly label the plots"
   ]
  },
  {
   "cell_type": "code",
   "execution_count": null,
   "metadata": {
    "colab": {
     "base_uri": "https://localhost:8080/",
     "height": 1000
    },
    "executionInfo": {
     "elapsed": 9655,
     "status": "ok",
     "timestamp": 1698480795246,
     "user": {
      "displayName": "Telha Bin Bilal",
      "userId": "04147761314111353462"
     },
     "user_tz": -300
    },
    "id": "GTAmcROa-zg0",
    "outputId": "1722dc9b-42de-4baf-d54a-dc875bc17d26"
   },
   "outputs": [],
   "source": []
  }
 ],
 "metadata": {
  "colab": {
   "authorship_tag": "ABX9TyNKemDy5mCKDCxC6+kWM9VB",
   "provenance": []
  },
  "kernelspec": {
   "display_name": "Python 3 (ipykernel)",
   "language": "python",
   "name": "python3"
  },
  "language_info": {
   "codemirror_mode": {
    "name": "ipython",
    "version": 3
   },
   "file_extension": ".py",
   "mimetype": "text/x-python",
   "name": "python",
   "nbconvert_exporter": "python",
   "pygments_lexer": "ipython3",
   "version": "3.9.19"
  }
 },
 "nbformat": 4,
 "nbformat_minor": 1
}
