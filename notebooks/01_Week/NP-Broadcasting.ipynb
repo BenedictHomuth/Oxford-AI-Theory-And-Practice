{
 "cells": [
  {
   "cell_type": "code",
   "execution_count": 9,
   "id": "ab6a8240",
   "metadata": {},
   "outputs": [],
   "source": [
    "myDictionary = {\"Hello\":{\"Test\": \"Case\", \"Mount\": \"Blau\"}}"
   ]
  },
  {
   "cell_type": "code",
   "execution_count": 11,
   "id": "77d16ec8",
   "metadata": {},
   "outputs": [
    {
     "name": "stdout",
     "output_type": "stream",
     "text": [
      "Blau\n"
     ]
    }
   ],
   "source": [
    "print(myDictionary[\"Hello\"][\"Mount\"])"
   ]
  },
  {
   "cell_type": "markdown",
   "id": "e69bef49",
   "metadata": {},
   "source": [
    "# Iteration / continue / break "
   ]
  },
  {
   "cell_type": "code",
   "execution_count": 19,
   "id": "09df2118",
   "metadata": {},
   "outputs": [
    {
     "name": "stdout",
     "output_type": "stream",
     "text": [
      "0\n",
      "3\n",
      "67\n"
     ]
    }
   ],
   "source": [
    "ml = [0,1,2,3,4,5,67,7,8]\n",
    "\n",
    "\n",
    "for i in range(0, len(ml), 3):\n",
    "    print(ml[i])"
   ]
  },
  {
   "cell_type": "code",
   "execution_count": 24,
   "id": "f72c9ce6",
   "metadata": {},
   "outputs": [
    {
     "name": "stdout",
     "output_type": "stream",
     "text": [
      "Name\n",
      "age\n"
     ]
    }
   ],
   "source": [
    "myDict = {\"Name\": \"tom\", \"age\": 16}\n",
    "for key in myDict:\n",
    "    print(key)"
   ]
  },
  {
   "cell_type": "code",
   "execution_count": 30,
   "id": "57366488",
   "metadata": {},
   "outputs": [
    {
     "name": "stdout",
     "output_type": "stream",
     "text": [
      "16\n"
     ]
    }
   ],
   "source": [
    "for value in myDict.values():\n",
    "    if value == \"tom\":\n",
    "        continue # skipping the step\n",
    "#        break # completely stop iteration\n",
    "    print(value)"
   ]
  },
  {
   "cell_type": "markdown",
   "id": "2594f4c9",
   "metadata": {},
   "source": [
    "# numpy"
   ]
  },
  {
   "cell_type": "code",
   "execution_count": 32,
   "id": "e119d9c6",
   "metadata": {},
   "outputs": [],
   "source": [
    "import numpy as np"
   ]
  },
  {
   "cell_type": "code",
   "execution_count": 36,
   "id": "47b1359f",
   "metadata": {},
   "outputs": [
    {
     "name": "stdout",
     "output_type": "stream",
     "text": [
      "[[1. 1. 1.]\n",
      " [1. 1. 1.]]\n"
     ]
    }
   ],
   "source": [
    "test = np.ones((2,3))\n",
    "\n",
    "print (test)"
   ]
  },
  {
   "cell_type": "code",
   "execution_count": 38,
   "id": "05ec57c7",
   "metadata": {},
   "outputs": [
    {
     "name": "stdout",
     "output_type": "stream",
     "text": [
      "[1 2 3 4]\n"
     ]
    }
   ],
   "source": [
    "myarray = np.array([1,2,3,4])\n",
    "\n",
    "print(myarray)"
   ]
  },
  {
   "cell_type": "code",
   "execution_count": 44,
   "id": "99fcff02",
   "metadata": {},
   "outputs": [
    {
     "name": "stdout",
     "output_type": "stream",
     "text": [
      "[10 11 12 13 14 15 16 17 18 19]\n"
     ]
    }
   ],
   "source": [
    "myarray = np.array(np.arange(10,20))\n",
    "print(myarray)"
   ]
  },
  {
   "cell_type": "code",
   "execution_count": 45,
   "id": "4ed54f40",
   "metadata": {},
   "outputs": [
    {
     "name": "stdout",
     "output_type": "stream",
     "text": [
      "[20 22 24 26 28 30 32 34 36 38]\n"
     ]
    }
   ],
   "source": [
    "myarray = np.array(np.arange(10,20)) * 2 # every entry *2\n",
    "print(myarray)"
   ]
  },
  {
   "cell_type": "code",
   "execution_count": 53,
   "id": "2901f83c",
   "metadata": {},
   "outputs": [
    {
     "name": "stdout",
     "output_type": "stream",
     "text": [
      "[[1 2 3]\n",
      " [4 5 6]\n",
      " [7 8 9]]\n",
      "dimesnsions:  (3, 3)\n"
     ]
    }
   ],
   "source": [
    "# multidemensional array\n",
    "\n",
    "arrayTwo = np.array([[1,2,3],\n",
    "                    [4,5,6],\n",
    "                    [7,8,9]])\n",
    "\n",
    "print(arrayTwo)\n",
    "\n",
    "print(\"dimesnsions: \", arrayTwo.shape)\n",
    "\n",
    "# when shape (3, ) => it is a vector"
   ]
  },
  {
   "cell_type": "code",
   "execution_count": 58,
   "id": "c513bfa6",
   "metadata": {},
   "outputs": [
    {
     "name": "stdout",
     "output_type": "stream",
     "text": [
      "[[1 2 3]\n",
      " [4 5 6]\n",
      " [7 8 9]]\n"
     ]
    }
   ],
   "source": [
    "arr = np.array(np.arange(1,10)).reshape(3,3)\n",
    "\n",
    "print(arr)"
   ]
  },
  {
   "cell_type": "code",
   "execution_count": 63,
   "id": "0f3f6f99",
   "metadata": {},
   "outputs": [
    {
     "name": "stdout",
     "output_type": "stream",
     "text": [
      "Max:  9\n",
      "Min:  1\n",
      "Avg:  5.0\n"
     ]
    }
   ],
   "source": [
    "\n",
    "print(\"Max: \", arr.max())\n",
    "print(\"Min: \", arr.min())\n",
    "print(\"Avg: \", np.mean(arr))"
   ]
  },
  {
   "cell_type": "code",
   "execution_count": 65,
   "id": "4782103c",
   "metadata": {},
   "outputs": [
    {
     "name": "stdout",
     "output_type": "stream",
     "text": [
      "[[False False False]\n",
      " [False False  True]\n",
      " [ True  True  True]]\n",
      "-----\n",
      "[6 7 8 9]\n"
     ]
    }
   ],
   "source": [
    "mask  = arr > 5\n",
    "print(mask)\n",
    "\n",
    "print(\"-----\")\n",
    "print(arr[mask])"
   ]
  },
  {
   "cell_type": "code",
   "execution_count": 70,
   "id": "51b99db6",
   "metadata": {},
   "outputs": [
    {
     "name": "stdout",
     "output_type": "stream",
     "text": [
      "first three [[1]]\n"
     ]
    }
   ],
   "source": [
    "print(\"first three\", arr[0:1:, 0:1:1])\n",
    "\n",
    "# Would be great to practice slicing more"
   ]
  },
  {
   "cell_type": "code",
   "execution_count": 81,
   "id": "2a376470",
   "metadata": {},
   "outputs": [
    {
     "name": "stdout",
     "output_type": "stream",
     "text": [
      "[[ 17  36  57  80]\n",
      " [105 132 161 192]\n",
      " [225 260 297 336]\n",
      " [377 420 465 512]]\n",
      "[[ 250  260  270  280]\n",
      " [ 618  644  670  696]\n",
      " [ 986 1028 1070 1112]\n",
      " [1354 1412 1470 1528]]\n",
      "[[ 250  260  270  280]\n",
      " [ 618  644  670  696]\n",
      " [ 986 1028 1070 1112]\n",
      " [1354 1412 1470 1528]]\n"
     ]
    }
   ],
   "source": [
    "arr1 = np.array(np.arange(1,17)).reshape(4,4)\n",
    "arr2 = np.array(np.arange(17,33)).reshape(4,4)\n",
    "\n",
    "print(arr1 * arr2) # dot product\n",
    "print(arr1 @ arr2) # matrix multiply\n",
    "print(np.matmul(arr1,arr2)) # same as above"
   ]
  },
  {
   "cell_type": "markdown",
   "id": "e432c311",
   "metadata": {},
   "source": [
    "# Slicing practice"
   ]
  },
  {
   "cell_type": "code",
   "execution_count": 131,
   "id": "84c805b7",
   "metadata": {},
   "outputs": [
    {
     "name": "stdout",
     "output_type": "stream",
     "text": [
      "[[0 1 2]\n",
      " [3 4 5]\n",
      " [6 7 8]]\n"
     ]
    }
   ],
   "source": [
    "testArr = np.array(np.arange(0,9)).reshape(3,3)\n",
    "print(testArr)"
   ]
  },
  {
   "cell_type": "code",
   "execution_count": 132,
   "id": "6ad876b8",
   "metadata": {},
   "outputs": [
    {
     "name": "stdout",
     "output_type": "stream",
     "text": [
      "[[0 1]\n",
      " [3 4]]\n"
     ]
    }
   ],
   "source": [
    "# get first two entries of first two rows\n",
    "\n",
    "print(testArr[0:2, 0:2])"
   ]
  },
  {
   "cell_type": "code",
   "execution_count": 133,
   "id": "b78e3091",
   "metadata": {},
   "outputs": [
    {
     "name": "stdout",
     "output_type": "stream",
     "text": [
      "[[0 2]\n",
      " [6 8]]\n"
     ]
    }
   ],
   "source": [
    "# get all outer corner numbers\n",
    "\n",
    "print(testArr[0::2, 0::2])"
   ]
  },
  {
   "cell_type": "code",
   "execution_count": 143,
   "id": "44e44bd4",
   "metadata": {},
   "outputs": [
    {
     "name": "stdout",
     "output_type": "stream",
     "text": [
      "[[1]\n",
      " [4]\n",
      " [7]]\n"
     ]
    }
   ],
   "source": [
    "# just extract the middle row\n",
    "print(testArr[0:, 1:-1])"
   ]
  },
  {
   "cell_type": "code",
   "execution_count": null,
   "id": "6fdd6474",
   "metadata": {},
   "outputs": [],
   "source": []
  },
  {
   "cell_type": "code",
   "execution_count": 122,
   "id": "a17b9d9e",
   "metadata": {},
   "outputs": [
    {
     "name": "stdout",
     "output_type": "stream",
     "text": [
      "[0 1 2 3 4 5 6 7 8 9]\n"
     ]
    }
   ],
   "source": [
    "testArr = np.array(np.arange(0,10))\n",
    "print(testArr)"
   ]
  },
  {
   "cell_type": "code",
   "execution_count": 125,
   "id": "918d2eac",
   "metadata": {},
   "outputs": [
    {
     "name": "stdout",
     "output_type": "stream",
     "text": [
      "[0 2 4 6 8]\n"
     ]
    }
   ],
   "source": [
    "# get all even numbers\n",
    "print(testArr[0::2])"
   ]
  },
  {
   "cell_type": "code",
   "execution_count": 127,
   "id": "6a5246ce",
   "metadata": {},
   "outputs": [
    {
     "ename": "IndexError",
     "evalue": "too many indices for array: array is 1-dimensional, but 2 were indexed",
     "output_type": "error",
     "traceback": [
      "\u001b[0;31m---------------------------------------------------------------------------\u001b[0m",
      "\u001b[0;31mIndexError\u001b[0m                                Traceback (most recent call last)",
      "Cell \u001b[0;32mIn[127], line 2\u001b[0m\n\u001b[1;32m      1\u001b[0m \u001b[38;5;66;03m# just extract the middle row\u001b[39;00m\n\u001b[0;32m----> 2\u001b[0m \u001b[38;5;28mprint\u001b[39m(\u001b[43mtestArr\u001b[49m\u001b[43m[\u001b[49m\u001b[38;5;241;43m1\u001b[39;49m\u001b[43m:\u001b[49m\u001b[38;5;241;43m2\u001b[39;49m\u001b[43m,\u001b[49m\u001b[43m \u001b[49m\u001b[38;5;241;43m1\u001b[39;49m\u001b[43m:\u001b[49m\u001b[38;5;241;43m2\u001b[39;49m\u001b[43m]\u001b[49m)\n",
      "\u001b[0;31mIndexError\u001b[0m: too many indices for array: array is 1-dimensional, but 2 were indexed"
     ]
    }
   ],
   "source": []
  },
  {
   "cell_type": "markdown",
   "id": "6e67c97b",
   "metadata": {},
   "source": [
    "# OOP"
   ]
  },
  {
   "cell_type": "code",
   "execution_count": 98,
   "id": "cc58434e",
   "metadata": {},
   "outputs": [],
   "source": [
    "class Animal:\n",
    "    def __init__(self, name, age):\n",
    "        self.name = name\n",
    "        self.age = age\n",
    "        \n",
    "    def voice(self):\n",
    "        print(self.name, \"sounds it's voice\")"
   ]
  },
  {
   "cell_type": "code",
   "execution_count": 99,
   "id": "5adb563c",
   "metadata": {},
   "outputs": [
    {
     "name": "stdout",
     "output_type": "stream",
     "text": [
      "Tony sounds it's voice\n"
     ]
    }
   ],
   "source": [
    "a1 = Animal(\"Tony\", 29)\n",
    "\n",
    "a1.voice()"
   ]
  },
  {
   "cell_type": "code",
   "execution_count": null,
   "id": "cfa80616",
   "metadata": {},
   "outputs": [],
   "source": []
  }
 ],
 "metadata": {
  "kernelspec": {
   "display_name": "Python 3 (ipykernel)",
   "language": "python",
   "name": "python3"
  },
  "language_info": {
   "codemirror_mode": {
    "name": "ipython",
    "version": 3
   },
   "file_extension": ".py",
   "mimetype": "text/x-python",
   "name": "python",
   "nbconvert_exporter": "python",
   "pygments_lexer": "ipython3",
   "version": "3.9.19"
  }
 },
 "nbformat": 4,
 "nbformat_minor": 5
}
