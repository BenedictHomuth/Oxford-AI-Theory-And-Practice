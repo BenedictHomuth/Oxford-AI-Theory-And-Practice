{
 "cells": [
  {
   "cell_type": "code",
   "execution_count": null,
   "id": "b9950ff7",
   "metadata": {},
   "outputs": [],
   "source": [
    "# Layers are always all without the input layer (3 sketched) => only two layers\n",
    "# There is no learning \n",
    "\n",
    "# Dimesinsions are always given in reverse output to input (so not 5x2, but 2x5)\n",
    "\n",
    "# weight = importance of a feature"
   ]
  }
 ],
 "metadata": {
  "kernelspec": {
   "display_name": "Python 3 (ipykernel)",
   "language": "python",
   "name": "python3"
  },
  "language_info": {
   "codemirror_mode": {
    "name": "ipython",
    "version": 3
   },
   "file_extension": ".py",
   "mimetype": "text/x-python",
   "name": "python",
   "nbconvert_exporter": "python",
   "pygments_lexer": "ipython3",
   "version": "3.9.19"
  }
 },
 "nbformat": 4,
 "nbformat_minor": 5
}
